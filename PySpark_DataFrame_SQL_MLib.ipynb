{
  "nbformat": 4,
  "nbformat_minor": 0,
  "metadata": {
    "colab": {
      "name": "PySpark DataFrame / SQL Basics.ipynb",
      "provenance": []
    },
    "kernelspec": {
      "name": "python3",
      "display_name": "Python 3"
    },
    "language_info": {
      "name": "python"
    }
  },
  "cells": [
    {
      "cell_type": "code",
      "metadata": {
        "id": "fXZCYjBYwniI"
      },
      "source": [
        "!apt-get install openjdk-8-jdk-headless -qq > /dev/null\n",
        "!wget -q http://archive.apache.org/dist/spark/spark-3.1.1/spark-3.1.1-bin-hadoop3.2.tgz\n",
        "!tar xf spark-3.1.1-bin-hadoop3.2.tgz\n",
        "!pip install -q findspark"
      ],
      "execution_count": 1,
      "outputs": []
    },
    {
      "cell_type": "code",
      "metadata": {
        "id": "hD156pX_w9Xv"
      },
      "source": [
        "import os\n",
        "os.environ[\"JAVA_HOME\"] = \"/usr/lib/jvm/java-8-openjdk-amd64\"\n",
        "os.environ[\"SPARK_HOME\"] = \"/content/spark-3.1.1-bin-hadoop3.2\""
      ],
      "execution_count": 2,
      "outputs": []
    },
    {
      "cell_type": "code",
      "metadata": {
        "colab": {
          "base_uri": "https://localhost:8080/",
          "height": 219
        },
        "id": "5AY9L0LYw-21",
        "outputId": "037fbf0b-39ab-428a-a028-868bbf78feb7"
      },
      "source": [
        "import findspark\n",
        "findspark.init()\n",
        "from pyspark.sql import SparkSession\n",
        "spark = SparkSession.builder.master(\"local[*]\").getOrCreate()\n",
        "spark.conf.set(\"spark.sql.repl.eagerEval.enabled\", True) # Property used to format output tables better\n",
        "spark"
      ],
      "execution_count": 3,
      "outputs": [
        {
          "output_type": "execute_result",
          "data": {
            "text/plain": [
              "<pyspark.sql.session.SparkSession at 0x7fe5add8eb50>"
            ],
            "text/html": [
              "\n",
              "            <div>\n",
              "                <p><b>SparkSession - in-memory</b></p>\n",
              "                \n",
              "        <div>\n",
              "            <p><b>SparkContext</b></p>\n",
              "\n",
              "            <p><a href=\"http://6389846b8183:4040\">Spark UI</a></p>\n",
              "\n",
              "            <dl>\n",
              "              <dt>Version</dt>\n",
              "                <dd><code>v3.1.1</code></dd>\n",
              "              <dt>Master</dt>\n",
              "                <dd><code>local[*]</code></dd>\n",
              "              <dt>AppName</dt>\n",
              "                <dd><code>pyspark-shell</code></dd>\n",
              "            </dl>\n",
              "        </div>\n",
              "        \n",
              "            </div>\n",
              "        "
            ]
          },
          "metadata": {},
          "execution_count": 3
        }
      ]
    },
    {
      "cell_type": "code",
      "metadata": {
        "colab": {
          "base_uri": "https://localhost:8080/",
          "height": 511
        },
        "id": "IVe7-cxBxAKA",
        "outputId": "98e970be-1ac2-4782-fb63-4852a0875adc"
      },
      "source": [
        "# Load the csv into a dataframe\n",
        "titanic_df = spark.read.csv(\"tested.csv\", header=True, inferSchema=True)\n",
        "titanic_df"
      ],
      "execution_count": 4,
      "outputs": [
        {
          "output_type": "execute_result",
          "data": {
            "text/plain": [
              "+-----------+--------+------+--------------------+------+----+-----+-----+----------------+-------+-----+--------+\n",
              "|PassengerId|Survived|Pclass|                Name|   Sex| Age|SibSp|Parch|          Ticket|   Fare|Cabin|Embarked|\n",
              "+-----------+--------+------+--------------------+------+----+-----+-----+----------------+-------+-----+--------+\n",
              "|        892|       0|     3|    Kelly, Mr. James|  male|34.5|    0|    0|          330911| 7.8292| null|       Q|\n",
              "|        893|       1|     3|Wilkes, Mrs. Jame...|female|47.0|    1|    0|          363272|    7.0| null|       S|\n",
              "|        894|       0|     2|Myles, Mr. Thomas...|  male|62.0|    0|    0|          240276| 9.6875| null|       Q|\n",
              "|        895|       0|     3|    Wirz, Mr. Albert|  male|27.0|    0|    0|          315154| 8.6625| null|       S|\n",
              "|        896|       1|     3|Hirvonen, Mrs. Al...|female|22.0|    1|    1|         3101298|12.2875| null|       S|\n",
              "|        897|       0|     3|Svensson, Mr. Joh...|  male|14.0|    0|    0|            7538|  9.225| null|       S|\n",
              "|        898|       1|     3|Connolly, Miss. Kate|female|30.0|    0|    0|          330972| 7.6292| null|       Q|\n",
              "|        899|       0|     2|Caldwell, Mr. Alb...|  male|26.0|    1|    1|          248738|   29.0| null|       S|\n",
              "|        900|       1|     3|Abrahim, Mrs. Jos...|female|18.0|    0|    0|            2657| 7.2292| null|       C|\n",
              "|        901|       0|     3|Davies, Mr. John ...|  male|21.0|    2|    0|       A/4 48871|  24.15| null|       S|\n",
              "|        902|       0|     3|    Ilieff, Mr. Ylio|  male|null|    0|    0|          349220| 7.8958| null|       S|\n",
              "|        903|       0|     1|Jones, Mr. Charle...|  male|46.0|    0|    0|             694|   26.0| null|       S|\n",
              "|        904|       1|     1|Snyder, Mrs. John...|female|23.0|    1|    0|           21228|82.2667|  B45|       S|\n",
              "|        905|       0|     2|Howard, Mr. Benjamin|  male|63.0|    1|    0|           24065|   26.0| null|       S|\n",
              "|        906|       1|     1|Chaffee, Mrs. Her...|female|47.0|    1|    0|     W.E.P. 5734| 61.175|  E31|       S|\n",
              "|        907|       1|     2|del Carlo, Mrs. S...|female|24.0|    1|    0|   SC/PARIS 2167|27.7208| null|       C|\n",
              "|        908|       0|     2|   Keane, Mr. Daniel|  male|35.0|    0|    0|          233734|  12.35| null|       Q|\n",
              "|        909|       0|     3|   Assaf, Mr. Gerios|  male|21.0|    0|    0|            2692|  7.225| null|       C|\n",
              "|        910|       1|     3|Ilmakangas, Miss....|female|27.0|    1|    0|STON/O2. 3101270|  7.925| null|       S|\n",
              "|        911|       1|     3|\"Assaf Khalil, Mr...|female|45.0|    0|    0|            2696|  7.225| null|       C|\n",
              "+-----------+--------+------+--------------------+------+----+-----+-----+----------------+-------+-----+--------+\n",
              "only showing top 20 rows"
            ],
            "text/html": [
              "<table border='1'>\n",
              "<tr><th>PassengerId</th><th>Survived</th><th>Pclass</th><th>Name</th><th>Sex</th><th>Age</th><th>SibSp</th><th>Parch</th><th>Ticket</th><th>Fare</th><th>Cabin</th><th>Embarked</th></tr>\n",
              "<tr><td>892</td><td>0</td><td>3</td><td>Kelly, Mr. James</td><td>male</td><td>34.5</td><td>0</td><td>0</td><td>330911</td><td>7.8292</td><td>null</td><td>Q</td></tr>\n",
              "<tr><td>893</td><td>1</td><td>3</td><td>Wilkes, Mrs. Jame...</td><td>female</td><td>47.0</td><td>1</td><td>0</td><td>363272</td><td>7.0</td><td>null</td><td>S</td></tr>\n",
              "<tr><td>894</td><td>0</td><td>2</td><td>Myles, Mr. Thomas...</td><td>male</td><td>62.0</td><td>0</td><td>0</td><td>240276</td><td>9.6875</td><td>null</td><td>Q</td></tr>\n",
              "<tr><td>895</td><td>0</td><td>3</td><td>Wirz, Mr. Albert</td><td>male</td><td>27.0</td><td>0</td><td>0</td><td>315154</td><td>8.6625</td><td>null</td><td>S</td></tr>\n",
              "<tr><td>896</td><td>1</td><td>3</td><td>Hirvonen, Mrs. Al...</td><td>female</td><td>22.0</td><td>1</td><td>1</td><td>3101298</td><td>12.2875</td><td>null</td><td>S</td></tr>\n",
              "<tr><td>897</td><td>0</td><td>3</td><td>Svensson, Mr. Joh...</td><td>male</td><td>14.0</td><td>0</td><td>0</td><td>7538</td><td>9.225</td><td>null</td><td>S</td></tr>\n",
              "<tr><td>898</td><td>1</td><td>3</td><td>Connolly, Miss. Kate</td><td>female</td><td>30.0</td><td>0</td><td>0</td><td>330972</td><td>7.6292</td><td>null</td><td>Q</td></tr>\n",
              "<tr><td>899</td><td>0</td><td>2</td><td>Caldwell, Mr. Alb...</td><td>male</td><td>26.0</td><td>1</td><td>1</td><td>248738</td><td>29.0</td><td>null</td><td>S</td></tr>\n",
              "<tr><td>900</td><td>1</td><td>3</td><td>Abrahim, Mrs. Jos...</td><td>female</td><td>18.0</td><td>0</td><td>0</td><td>2657</td><td>7.2292</td><td>null</td><td>C</td></tr>\n",
              "<tr><td>901</td><td>0</td><td>3</td><td>Davies, Mr. John ...</td><td>male</td><td>21.0</td><td>2</td><td>0</td><td>A/4 48871</td><td>24.15</td><td>null</td><td>S</td></tr>\n",
              "<tr><td>902</td><td>0</td><td>3</td><td>Ilieff, Mr. Ylio</td><td>male</td><td>null</td><td>0</td><td>0</td><td>349220</td><td>7.8958</td><td>null</td><td>S</td></tr>\n",
              "<tr><td>903</td><td>0</td><td>1</td><td>Jones, Mr. Charle...</td><td>male</td><td>46.0</td><td>0</td><td>0</td><td>694</td><td>26.0</td><td>null</td><td>S</td></tr>\n",
              "<tr><td>904</td><td>1</td><td>1</td><td>Snyder, Mrs. John...</td><td>female</td><td>23.0</td><td>1</td><td>0</td><td>21228</td><td>82.2667</td><td>B45</td><td>S</td></tr>\n",
              "<tr><td>905</td><td>0</td><td>2</td><td>Howard, Mr. Benjamin</td><td>male</td><td>63.0</td><td>1</td><td>0</td><td>24065</td><td>26.0</td><td>null</td><td>S</td></tr>\n",
              "<tr><td>906</td><td>1</td><td>1</td><td>Chaffee, Mrs. Her...</td><td>female</td><td>47.0</td><td>1</td><td>0</td><td>W.E.P. 5734</td><td>61.175</td><td>E31</td><td>S</td></tr>\n",
              "<tr><td>907</td><td>1</td><td>2</td><td>del Carlo, Mrs. S...</td><td>female</td><td>24.0</td><td>1</td><td>0</td><td>SC/PARIS 2167</td><td>27.7208</td><td>null</td><td>C</td></tr>\n",
              "<tr><td>908</td><td>0</td><td>2</td><td>Keane, Mr. Daniel</td><td>male</td><td>35.0</td><td>0</td><td>0</td><td>233734</td><td>12.35</td><td>null</td><td>Q</td></tr>\n",
              "<tr><td>909</td><td>0</td><td>3</td><td>Assaf, Mr. Gerios</td><td>male</td><td>21.0</td><td>0</td><td>0</td><td>2692</td><td>7.225</td><td>null</td><td>C</td></tr>\n",
              "<tr><td>910</td><td>1</td><td>3</td><td>Ilmakangas, Miss....</td><td>female</td><td>27.0</td><td>1</td><td>0</td><td>STON/O2. 3101270</td><td>7.925</td><td>null</td><td>S</td></tr>\n",
              "<tr><td>911</td><td>1</td><td>3</td><td>&quot;Assaf Khalil, Mr...</td><td>female</td><td>45.0</td><td>0</td><td>0</td><td>2696</td><td>7.225</td><td>null</td><td>C</td></tr>\n",
              "</table>\n",
              "only showing top 20 rows\n"
            ]
          },
          "metadata": {},
          "execution_count": 4
        }
      ]
    },
    {
      "cell_type": "code",
      "metadata": {
        "colab": {
          "base_uri": "https://localhost:8080/"
        },
        "id": "K02d6sPwxtnz",
        "outputId": "30f01dde-c0d4-4983-e5f2-a60904dbaafb"
      },
      "source": [
        "titanic_df.printSchema()"
      ],
      "execution_count": 5,
      "outputs": [
        {
          "output_type": "stream",
          "name": "stdout",
          "text": [
            "root\n",
            " |-- PassengerId: integer (nullable = true)\n",
            " |-- Survived: integer (nullable = true)\n",
            " |-- Pclass: integer (nullable = true)\n",
            " |-- Name: string (nullable = true)\n",
            " |-- Sex: string (nullable = true)\n",
            " |-- Age: double (nullable = true)\n",
            " |-- SibSp: integer (nullable = true)\n",
            " |-- Parch: integer (nullable = true)\n",
            " |-- Ticket: string (nullable = true)\n",
            " |-- Fare: double (nullable = true)\n",
            " |-- Cabin: string (nullable = true)\n",
            " |-- Embarked: string (nullable = true)\n",
            "\n"
          ]
        }
      ]
    },
    {
      "cell_type": "code",
      "metadata": {
        "colab": {
          "base_uri": "https://localhost:8080/",
          "height": 245
        },
        "id": "jpO-UsbaySWW",
        "outputId": "58405069-9010-4091-bddd-dd4a8027f4c7"
      },
      "source": [
        "titanic_df.describe()"
      ],
      "execution_count": 6,
      "outputs": [
        {
          "output_type": "execute_result",
          "data": {
            "text/plain": [
              "+-------+------------------+-------------------+------------------+--------------------+------+------------------+------------------+------------------+------------------+------------------+-----+--------+\n",
              "|summary|       PassengerId|           Survived|            Pclass|                Name|   Sex|               Age|             SibSp|             Parch|            Ticket|              Fare|Cabin|Embarked|\n",
              "+-------+------------------+-------------------+------------------+--------------------+------+------------------+------------------+------------------+------------------+------------------+-----+--------+\n",
              "|  count|               418|                418|               418|                 418|   418|               332|               418|               418|               418|               417|   91|     418|\n",
              "|   mean|            1100.5|0.36363636363636365|2.2655502392344498|                null|  null|30.272590361445783|0.4473684210526316|0.3923444976076555|223850.98986486485|  35.6271884892086| null|    null|\n",
              "| stddev|120.81045760473994| 0.4816221409322309|0.8418375519640503|                null|  null|14.181209235624424|0.8967595611217135|0.9814288785371694| 369523.7764694362|55.907576179973844| null|    null|\n",
              "|    min|               892|                  0|                 1|\"Assaf Khalil, Mr...|female|              0.17|                 0|                 0|            110469|               0.0|  A11|       C|\n",
              "|    max|              1309|                  1|                 3|van Billiard, Mas...|  male|              76.0|                 8|                 9|       W.E.P. 5734|          512.3292|   G6|       S|\n",
              "+-------+------------------+-------------------+------------------+--------------------+------+------------------+------------------+------------------+------------------+------------------+-----+--------+"
            ],
            "text/html": [
              "<table border='1'>\n",
              "<tr><th>summary</th><th>PassengerId</th><th>Survived</th><th>Pclass</th><th>Name</th><th>Sex</th><th>Age</th><th>SibSp</th><th>Parch</th><th>Ticket</th><th>Fare</th><th>Cabin</th><th>Embarked</th></tr>\n",
              "<tr><td>count</td><td>418</td><td>418</td><td>418</td><td>418</td><td>418</td><td>332</td><td>418</td><td>418</td><td>418</td><td>417</td><td>91</td><td>418</td></tr>\n",
              "<tr><td>mean</td><td>1100.5</td><td>0.36363636363636365</td><td>2.2655502392344498</td><td>null</td><td>null</td><td>30.272590361445783</td><td>0.4473684210526316</td><td>0.3923444976076555</td><td>223850.98986486485</td><td>35.6271884892086</td><td>null</td><td>null</td></tr>\n",
              "<tr><td>stddev</td><td>120.81045760473994</td><td>0.4816221409322309</td><td>0.8418375519640503</td><td>null</td><td>null</td><td>14.181209235624424</td><td>0.8967595611217135</td><td>0.9814288785371694</td><td>369523.7764694362</td><td>55.907576179973844</td><td>null</td><td>null</td></tr>\n",
              "<tr><td>min</td><td>892</td><td>0</td><td>1</td><td>&quot;Assaf Khalil, Mr...</td><td>female</td><td>0.17</td><td>0</td><td>0</td><td>110469</td><td>0.0</td><td>A11</td><td>C</td></tr>\n",
              "<tr><td>max</td><td>1309</td><td>1</td><td>3</td><td>van Billiard, Mas...</td><td>male</td><td>76.0</td><td>8</td><td>9</td><td>W.E.P. 5734</td><td>512.3292</td><td>G6</td><td>S</td></tr>\n",
              "</table>\n"
            ]
          },
          "metadata": {},
          "execution_count": 6
        }
      ]
    },
    {
      "cell_type": "code",
      "source": [
        "from pyspark.sql.types import IntegerType\n",
        "from pyspark.sql.functions import udf, round\n",
        "  \n",
        "\n",
        "titanic_df=titanic_df.withColumn('Age',round(titanic_df['Age']))\n",
        "titanic_df"
      ],
      "metadata": {
        "id": "8M3XWKszmjWU",
        "outputId": "a84a133f-69a2-4655-ca68-550511d18e46",
        "colab": {
          "base_uri": "https://localhost:8080/",
          "height": 511
        }
      },
      "execution_count": 7,
      "outputs": [
        {
          "output_type": "execute_result",
          "data": {
            "text/plain": [
              "+-----------+--------+------+--------------------+------+----+-----+-----+----------------+-------+-----+--------+\n",
              "|PassengerId|Survived|Pclass|                Name|   Sex| Age|SibSp|Parch|          Ticket|   Fare|Cabin|Embarked|\n",
              "+-----------+--------+------+--------------------+------+----+-----+-----+----------------+-------+-----+--------+\n",
              "|        892|       0|     3|    Kelly, Mr. James|  male|35.0|    0|    0|          330911| 7.8292| null|       Q|\n",
              "|        893|       1|     3|Wilkes, Mrs. Jame...|female|47.0|    1|    0|          363272|    7.0| null|       S|\n",
              "|        894|       0|     2|Myles, Mr. Thomas...|  male|62.0|    0|    0|          240276| 9.6875| null|       Q|\n",
              "|        895|       0|     3|    Wirz, Mr. Albert|  male|27.0|    0|    0|          315154| 8.6625| null|       S|\n",
              "|        896|       1|     3|Hirvonen, Mrs. Al...|female|22.0|    1|    1|         3101298|12.2875| null|       S|\n",
              "|        897|       0|     3|Svensson, Mr. Joh...|  male|14.0|    0|    0|            7538|  9.225| null|       S|\n",
              "|        898|       1|     3|Connolly, Miss. Kate|female|30.0|    0|    0|          330972| 7.6292| null|       Q|\n",
              "|        899|       0|     2|Caldwell, Mr. Alb...|  male|26.0|    1|    1|          248738|   29.0| null|       S|\n",
              "|        900|       1|     3|Abrahim, Mrs. Jos...|female|18.0|    0|    0|            2657| 7.2292| null|       C|\n",
              "|        901|       0|     3|Davies, Mr. John ...|  male|21.0|    2|    0|       A/4 48871|  24.15| null|       S|\n",
              "|        902|       0|     3|    Ilieff, Mr. Ylio|  male|null|    0|    0|          349220| 7.8958| null|       S|\n",
              "|        903|       0|     1|Jones, Mr. Charle...|  male|46.0|    0|    0|             694|   26.0| null|       S|\n",
              "|        904|       1|     1|Snyder, Mrs. John...|female|23.0|    1|    0|           21228|82.2667|  B45|       S|\n",
              "|        905|       0|     2|Howard, Mr. Benjamin|  male|63.0|    1|    0|           24065|   26.0| null|       S|\n",
              "|        906|       1|     1|Chaffee, Mrs. Her...|female|47.0|    1|    0|     W.E.P. 5734| 61.175|  E31|       S|\n",
              "|        907|       1|     2|del Carlo, Mrs. S...|female|24.0|    1|    0|   SC/PARIS 2167|27.7208| null|       C|\n",
              "|        908|       0|     2|   Keane, Mr. Daniel|  male|35.0|    0|    0|          233734|  12.35| null|       Q|\n",
              "|        909|       0|     3|   Assaf, Mr. Gerios|  male|21.0|    0|    0|            2692|  7.225| null|       C|\n",
              "|        910|       1|     3|Ilmakangas, Miss....|female|27.0|    1|    0|STON/O2. 3101270|  7.925| null|       S|\n",
              "|        911|       1|     3|\"Assaf Khalil, Mr...|female|45.0|    0|    0|            2696|  7.225| null|       C|\n",
              "+-----------+--------+------+--------------------+------+----+-----+-----+----------------+-------+-----+--------+\n",
              "only showing top 20 rows"
            ],
            "text/html": [
              "<table border='1'>\n",
              "<tr><th>PassengerId</th><th>Survived</th><th>Pclass</th><th>Name</th><th>Sex</th><th>Age</th><th>SibSp</th><th>Parch</th><th>Ticket</th><th>Fare</th><th>Cabin</th><th>Embarked</th></tr>\n",
              "<tr><td>892</td><td>0</td><td>3</td><td>Kelly, Mr. James</td><td>male</td><td>35.0</td><td>0</td><td>0</td><td>330911</td><td>7.8292</td><td>null</td><td>Q</td></tr>\n",
              "<tr><td>893</td><td>1</td><td>3</td><td>Wilkes, Mrs. Jame...</td><td>female</td><td>47.0</td><td>1</td><td>0</td><td>363272</td><td>7.0</td><td>null</td><td>S</td></tr>\n",
              "<tr><td>894</td><td>0</td><td>2</td><td>Myles, Mr. Thomas...</td><td>male</td><td>62.0</td><td>0</td><td>0</td><td>240276</td><td>9.6875</td><td>null</td><td>Q</td></tr>\n",
              "<tr><td>895</td><td>0</td><td>3</td><td>Wirz, Mr. Albert</td><td>male</td><td>27.0</td><td>0</td><td>0</td><td>315154</td><td>8.6625</td><td>null</td><td>S</td></tr>\n",
              "<tr><td>896</td><td>1</td><td>3</td><td>Hirvonen, Mrs. Al...</td><td>female</td><td>22.0</td><td>1</td><td>1</td><td>3101298</td><td>12.2875</td><td>null</td><td>S</td></tr>\n",
              "<tr><td>897</td><td>0</td><td>3</td><td>Svensson, Mr. Joh...</td><td>male</td><td>14.0</td><td>0</td><td>0</td><td>7538</td><td>9.225</td><td>null</td><td>S</td></tr>\n",
              "<tr><td>898</td><td>1</td><td>3</td><td>Connolly, Miss. Kate</td><td>female</td><td>30.0</td><td>0</td><td>0</td><td>330972</td><td>7.6292</td><td>null</td><td>Q</td></tr>\n",
              "<tr><td>899</td><td>0</td><td>2</td><td>Caldwell, Mr. Alb...</td><td>male</td><td>26.0</td><td>1</td><td>1</td><td>248738</td><td>29.0</td><td>null</td><td>S</td></tr>\n",
              "<tr><td>900</td><td>1</td><td>3</td><td>Abrahim, Mrs. Jos...</td><td>female</td><td>18.0</td><td>0</td><td>0</td><td>2657</td><td>7.2292</td><td>null</td><td>C</td></tr>\n",
              "<tr><td>901</td><td>0</td><td>3</td><td>Davies, Mr. John ...</td><td>male</td><td>21.0</td><td>2</td><td>0</td><td>A/4 48871</td><td>24.15</td><td>null</td><td>S</td></tr>\n",
              "<tr><td>902</td><td>0</td><td>3</td><td>Ilieff, Mr. Ylio</td><td>male</td><td>null</td><td>0</td><td>0</td><td>349220</td><td>7.8958</td><td>null</td><td>S</td></tr>\n",
              "<tr><td>903</td><td>0</td><td>1</td><td>Jones, Mr. Charle...</td><td>male</td><td>46.0</td><td>0</td><td>0</td><td>694</td><td>26.0</td><td>null</td><td>S</td></tr>\n",
              "<tr><td>904</td><td>1</td><td>1</td><td>Snyder, Mrs. John...</td><td>female</td><td>23.0</td><td>1</td><td>0</td><td>21228</td><td>82.2667</td><td>B45</td><td>S</td></tr>\n",
              "<tr><td>905</td><td>0</td><td>2</td><td>Howard, Mr. Benjamin</td><td>male</td><td>63.0</td><td>1</td><td>0</td><td>24065</td><td>26.0</td><td>null</td><td>S</td></tr>\n",
              "<tr><td>906</td><td>1</td><td>1</td><td>Chaffee, Mrs. Her...</td><td>female</td><td>47.0</td><td>1</td><td>0</td><td>W.E.P. 5734</td><td>61.175</td><td>E31</td><td>S</td></tr>\n",
              "<tr><td>907</td><td>1</td><td>2</td><td>del Carlo, Mrs. S...</td><td>female</td><td>24.0</td><td>1</td><td>0</td><td>SC/PARIS 2167</td><td>27.7208</td><td>null</td><td>C</td></tr>\n",
              "<tr><td>908</td><td>0</td><td>2</td><td>Keane, Mr. Daniel</td><td>male</td><td>35.0</td><td>0</td><td>0</td><td>233734</td><td>12.35</td><td>null</td><td>Q</td></tr>\n",
              "<tr><td>909</td><td>0</td><td>3</td><td>Assaf, Mr. Gerios</td><td>male</td><td>21.0</td><td>0</td><td>0</td><td>2692</td><td>7.225</td><td>null</td><td>C</td></tr>\n",
              "<tr><td>910</td><td>1</td><td>3</td><td>Ilmakangas, Miss....</td><td>female</td><td>27.0</td><td>1</td><td>0</td><td>STON/O2. 3101270</td><td>7.925</td><td>null</td><td>S</td></tr>\n",
              "<tr><td>911</td><td>1</td><td>3</td><td>&quot;Assaf Khalil, Mr...</td><td>female</td><td>45.0</td><td>0</td><td>0</td><td>2696</td><td>7.225</td><td>null</td><td>C</td></tr>\n",
              "</table>\n",
              "only showing top 20 rows\n"
            ]
          },
          "metadata": {},
          "execution_count": 7
        }
      ]
    },
    {
      "cell_type": "code",
      "source": [
        "# replace NAs with mean of column\n",
        "from pyspark.ml.feature import Imputer # In statistics, imputation is the process of  replacing missing data with substituted values\n",
        "from pyspark.ml.feature import StringIndexer #for linear regression MODEL , we have to change the Sex category column to Sex indexer colum\n",
        "\n",
        "imptr = Imputer(inputCols=['Age','Fare'],\n",
        "                outputCols=['Age','Fare']).setStrategy('mean') # can also be 'median' and so on\n",
        "indexer = StringIndexer(inputCol=\"Sex\", outputCol=\"SexIndex\")\n",
        "titanic_df= indexer.fit(titanic_df).transform(titanic_df)\n",
        "titanic_df = imptr.fit(titanic_df).transform(titanic_df)\n"
      ],
      "metadata": {
        "id": "T83rl6Kpd3Jo"
      },
      "execution_count": 8,
      "outputs": []
    },
    {
      "cell_type": "code",
      "source": [
        "titanic_df"
      ],
      "metadata": {
        "id": "SBCQoNb6sOZf",
        "outputId": "000d2963-6824-4e4e-e5e7-41b4aa81a080",
        "colab": {
          "base_uri": "https://localhost:8080/",
          "height": 511
        }
      },
      "execution_count": 9,
      "outputs": [
        {
          "output_type": "execute_result",
          "data": {
            "text/plain": [
              "+-----------+--------+------+--------------------+------+------------------+-----+-----+----------------+-------+-----+--------+--------+\n",
              "|PassengerId|Survived|Pclass|                Name|   Sex|               Age|SibSp|Parch|          Ticket|   Fare|Cabin|Embarked|SexIndex|\n",
              "+-----------+--------+------+--------------------+------+------------------+-----+-----+----------------+-------+-----+--------+--------+\n",
              "|        892|       0|     3|    Kelly, Mr. James|  male|              35.0|    0|    0|          330911| 7.8292| null|       Q|     0.0|\n",
              "|        893|       1|     3|Wilkes, Mrs. Jame...|female|              47.0|    1|    0|          363272|    7.0| null|       S|     1.0|\n",
              "|        894|       0|     2|Myles, Mr. Thomas...|  male|              62.0|    0|    0|          240276| 9.6875| null|       Q|     0.0|\n",
              "|        895|       0|     3|    Wirz, Mr. Albert|  male|              27.0|    0|    0|          315154| 8.6625| null|       S|     0.0|\n",
              "|        896|       1|     3|Hirvonen, Mrs. Al...|female|              22.0|    1|    1|         3101298|12.2875| null|       S|     1.0|\n",
              "|        897|       0|     3|Svensson, Mr. Joh...|  male|              14.0|    0|    0|            7538|  9.225| null|       S|     0.0|\n",
              "|        898|       1|     3|Connolly, Miss. Kate|female|              30.0|    0|    0|          330972| 7.6292| null|       Q|     1.0|\n",
              "|        899|       0|     2|Caldwell, Mr. Alb...|  male|              26.0|    1|    1|          248738|   29.0| null|       S|     0.0|\n",
              "|        900|       1|     3|Abrahim, Mrs. Jos...|female|              18.0|    0|    0|            2657| 7.2292| null|       C|     1.0|\n",
              "|        901|       0|     3|Davies, Mr. John ...|  male|              21.0|    2|    0|       A/4 48871|  24.15| null|       S|     0.0|\n",
              "|        902|       0|     3|    Ilieff, Mr. Ylio|  male|30.295180722891565|    0|    0|          349220| 7.8958| null|       S|     0.0|\n",
              "|        903|       0|     1|Jones, Mr. Charle...|  male|              46.0|    0|    0|             694|   26.0| null|       S|     0.0|\n",
              "|        904|       1|     1|Snyder, Mrs. John...|female|              23.0|    1|    0|           21228|82.2667|  B45|       S|     1.0|\n",
              "|        905|       0|     2|Howard, Mr. Benjamin|  male|              63.0|    1|    0|           24065|   26.0| null|       S|     0.0|\n",
              "|        906|       1|     1|Chaffee, Mrs. Her...|female|              47.0|    1|    0|     W.E.P. 5734| 61.175|  E31|       S|     1.0|\n",
              "|        907|       1|     2|del Carlo, Mrs. S...|female|              24.0|    1|    0|   SC/PARIS 2167|27.7208| null|       C|     1.0|\n",
              "|        908|       0|     2|   Keane, Mr. Daniel|  male|              35.0|    0|    0|          233734|  12.35| null|       Q|     0.0|\n",
              "|        909|       0|     3|   Assaf, Mr. Gerios|  male|              21.0|    0|    0|            2692|  7.225| null|       C|     0.0|\n",
              "|        910|       1|     3|Ilmakangas, Miss....|female|              27.0|    1|    0|STON/O2. 3101270|  7.925| null|       S|     1.0|\n",
              "|        911|       1|     3|\"Assaf Khalil, Mr...|female|              45.0|    0|    0|            2696|  7.225| null|       C|     1.0|\n",
              "+-----------+--------+------+--------------------+------+------------------+-----+-----+----------------+-------+-----+--------+--------+\n",
              "only showing top 20 rows"
            ],
            "text/html": [
              "<table border='1'>\n",
              "<tr><th>PassengerId</th><th>Survived</th><th>Pclass</th><th>Name</th><th>Sex</th><th>Age</th><th>SibSp</th><th>Parch</th><th>Ticket</th><th>Fare</th><th>Cabin</th><th>Embarked</th><th>SexIndex</th></tr>\n",
              "<tr><td>892</td><td>0</td><td>3</td><td>Kelly, Mr. James</td><td>male</td><td>35.0</td><td>0</td><td>0</td><td>330911</td><td>7.8292</td><td>null</td><td>Q</td><td>0.0</td></tr>\n",
              "<tr><td>893</td><td>1</td><td>3</td><td>Wilkes, Mrs. Jame...</td><td>female</td><td>47.0</td><td>1</td><td>0</td><td>363272</td><td>7.0</td><td>null</td><td>S</td><td>1.0</td></tr>\n",
              "<tr><td>894</td><td>0</td><td>2</td><td>Myles, Mr. Thomas...</td><td>male</td><td>62.0</td><td>0</td><td>0</td><td>240276</td><td>9.6875</td><td>null</td><td>Q</td><td>0.0</td></tr>\n",
              "<tr><td>895</td><td>0</td><td>3</td><td>Wirz, Mr. Albert</td><td>male</td><td>27.0</td><td>0</td><td>0</td><td>315154</td><td>8.6625</td><td>null</td><td>S</td><td>0.0</td></tr>\n",
              "<tr><td>896</td><td>1</td><td>3</td><td>Hirvonen, Mrs. Al...</td><td>female</td><td>22.0</td><td>1</td><td>1</td><td>3101298</td><td>12.2875</td><td>null</td><td>S</td><td>1.0</td></tr>\n",
              "<tr><td>897</td><td>0</td><td>3</td><td>Svensson, Mr. Joh...</td><td>male</td><td>14.0</td><td>0</td><td>0</td><td>7538</td><td>9.225</td><td>null</td><td>S</td><td>0.0</td></tr>\n",
              "<tr><td>898</td><td>1</td><td>3</td><td>Connolly, Miss. Kate</td><td>female</td><td>30.0</td><td>0</td><td>0</td><td>330972</td><td>7.6292</td><td>null</td><td>Q</td><td>1.0</td></tr>\n",
              "<tr><td>899</td><td>0</td><td>2</td><td>Caldwell, Mr. Alb...</td><td>male</td><td>26.0</td><td>1</td><td>1</td><td>248738</td><td>29.0</td><td>null</td><td>S</td><td>0.0</td></tr>\n",
              "<tr><td>900</td><td>1</td><td>3</td><td>Abrahim, Mrs. Jos...</td><td>female</td><td>18.0</td><td>0</td><td>0</td><td>2657</td><td>7.2292</td><td>null</td><td>C</td><td>1.0</td></tr>\n",
              "<tr><td>901</td><td>0</td><td>3</td><td>Davies, Mr. John ...</td><td>male</td><td>21.0</td><td>2</td><td>0</td><td>A/4 48871</td><td>24.15</td><td>null</td><td>S</td><td>0.0</td></tr>\n",
              "<tr><td>902</td><td>0</td><td>3</td><td>Ilieff, Mr. Ylio</td><td>male</td><td>30.295180722891565</td><td>0</td><td>0</td><td>349220</td><td>7.8958</td><td>null</td><td>S</td><td>0.0</td></tr>\n",
              "<tr><td>903</td><td>0</td><td>1</td><td>Jones, Mr. Charle...</td><td>male</td><td>46.0</td><td>0</td><td>0</td><td>694</td><td>26.0</td><td>null</td><td>S</td><td>0.0</td></tr>\n",
              "<tr><td>904</td><td>1</td><td>1</td><td>Snyder, Mrs. John...</td><td>female</td><td>23.0</td><td>1</td><td>0</td><td>21228</td><td>82.2667</td><td>B45</td><td>S</td><td>1.0</td></tr>\n",
              "<tr><td>905</td><td>0</td><td>2</td><td>Howard, Mr. Benjamin</td><td>male</td><td>63.0</td><td>1</td><td>0</td><td>24065</td><td>26.0</td><td>null</td><td>S</td><td>0.0</td></tr>\n",
              "<tr><td>906</td><td>1</td><td>1</td><td>Chaffee, Mrs. Her...</td><td>female</td><td>47.0</td><td>1</td><td>0</td><td>W.E.P. 5734</td><td>61.175</td><td>E31</td><td>S</td><td>1.0</td></tr>\n",
              "<tr><td>907</td><td>1</td><td>2</td><td>del Carlo, Mrs. S...</td><td>female</td><td>24.0</td><td>1</td><td>0</td><td>SC/PARIS 2167</td><td>27.7208</td><td>null</td><td>C</td><td>1.0</td></tr>\n",
              "<tr><td>908</td><td>0</td><td>2</td><td>Keane, Mr. Daniel</td><td>male</td><td>35.0</td><td>0</td><td>0</td><td>233734</td><td>12.35</td><td>null</td><td>Q</td><td>0.0</td></tr>\n",
              "<tr><td>909</td><td>0</td><td>3</td><td>Assaf, Mr. Gerios</td><td>male</td><td>21.0</td><td>0</td><td>0</td><td>2692</td><td>7.225</td><td>null</td><td>C</td><td>0.0</td></tr>\n",
              "<tr><td>910</td><td>1</td><td>3</td><td>Ilmakangas, Miss....</td><td>female</td><td>27.0</td><td>1</td><td>0</td><td>STON/O2. 3101270</td><td>7.925</td><td>null</td><td>S</td><td>1.0</td></tr>\n",
              "<tr><td>911</td><td>1</td><td>3</td><td>&quot;Assaf Khalil, Mr...</td><td>female</td><td>45.0</td><td>0</td><td>0</td><td>2696</td><td>7.225</td><td>null</td><td>C</td><td>1.0</td></tr>\n",
              "</table>\n",
              "only showing top 20 rows\n"
            ]
          },
          "metadata": {},
          "execution_count": 9
        }
      ]
    },
    {
      "cell_type": "code",
      "source": [
        "# compute summery statistics\n",
        "titanic_df.select(['Age','Fare']).describe().show()"
      ],
      "metadata": {
        "id": "XQg9KLaBdXKS",
        "outputId": "a08e2ba5-884e-497c-d9fb-89bcaf538011",
        "colab": {
          "base_uri": "https://localhost:8080/"
        }
      },
      "execution_count": 10,
      "outputs": [
        {
          "output_type": "stream",
          "name": "stdout",
          "text": [
            "+-------+------------------+------------------+\n",
            "|summary|               Age|              Fare|\n",
            "+-------+------------------+------------------+\n",
            "|  count|               418|               418|\n",
            "|   mean|30.295180722891548|  35.6271884892086|\n",
            "| stddev|12.633087412660265|55.840500479541056|\n",
            "|    min|               0.0|               0.0|\n",
            "|    max|              76.0|          512.3292|\n",
            "+-------+------------------+------------------+\n",
            "\n"
          ]
        }
      ]
    },
    {
      "cell_type": "code",
      "metadata": {
        "colab": {
          "base_uri": "https://localhost:8080/",
          "height": 156
        },
        "id": "bLVEE0p8yveJ",
        "outputId": "879c5043-e141-4e75-95f5-7887b8bc06de"
      },
      "source": [
        "titanic_df.select('PassengerId', 'Survived').limit(5)"
      ],
      "execution_count": 11,
      "outputs": [
        {
          "output_type": "execute_result",
          "data": {
            "text/plain": [
              "+-----------+--------+\n",
              "|PassengerId|Survived|\n",
              "+-----------+--------+\n",
              "|        892|       0|\n",
              "|        893|       1|\n",
              "|        894|       0|\n",
              "|        895|       0|\n",
              "|        896|       1|\n",
              "+-----------+--------+"
            ],
            "text/html": [
              "<table border='1'>\n",
              "<tr><th>PassengerId</th><th>Survived</th></tr>\n",
              "<tr><td>892</td><td>0</td></tr>\n",
              "<tr><td>893</td><td>1</td></tr>\n",
              "<tr><td>894</td><td>0</td></tr>\n",
              "<tr><td>895</td><td>0</td></tr>\n",
              "<tr><td>896</td><td>1</td></tr>\n",
              "</table>\n"
            ]
          },
          "metadata": {},
          "execution_count": 11
        }
      ]
    },
    {
      "cell_type": "code",
      "metadata": {
        "colab": {
          "base_uri": "https://localhost:8080/",
          "height": 598
        },
        "id": "NPMDjhkby-0i",
        "outputId": "411f48a0-a6dd-4f04-f5ae-18c9afe88c6f"
      },
      "source": [
        "titanic_df.where((titanic_df.Age > 25) & (titanic_df.Survived == 1))"
      ],
      "execution_count": 12,
      "outputs": [
        {
          "output_type": "execute_result",
          "data": {
            "text/plain": [
              "+-----------+--------+------+--------------------+------+------------------+-----+-----+----------------+-------+---------------+--------+--------+\n",
              "|PassengerId|Survived|Pclass|                Name|   Sex|               Age|SibSp|Parch|          Ticket|   Fare|          Cabin|Embarked|SexIndex|\n",
              "+-----------+--------+------+--------------------+------+------------------+-----+-----+----------------+-------+---------------+--------+--------+\n",
              "|        893|       1|     3|Wilkes, Mrs. Jame...|female|              47.0|    1|    0|          363272|    7.0|           null|       S|     1.0|\n",
              "|        898|       1|     3|Connolly, Miss. Kate|female|              30.0|    0|    0|          330972| 7.6292|           null|       Q|     1.0|\n",
              "|        906|       1|     1|Chaffee, Mrs. Her...|female|              47.0|    1|    0|     W.E.P. 5734| 61.175|            E31|       S|     1.0|\n",
              "|        910|       1|     3|Ilmakangas, Miss....|female|              27.0|    1|    0|STON/O2. 3101270|  7.925|           null|       S|     1.0|\n",
              "|        911|       1|     3|\"Assaf Khalil, Mr...|female|              45.0|    0|    0|            2696|  7.225|           null|       C|     1.0|\n",
              "|        914|       1|     1|Flegenheim, Mrs. ...|female|30.295180722891565|    0|    0|        PC 17598|31.6833|           null|       S|     1.0|\n",
              "|        916|       1|     1|Ryerson, Mrs. Art...|female|              48.0|    1|    3|        PC 17608|262.375|B57 B59 B63 B66|       C|     1.0|\n",
              "|        924|       1|     3|Dean, Mrs. Bertra...|female|              33.0|    1|    2|       C.A. 2315| 20.575|           null|       S|     1.0|\n",
              "|        925|       1|     3|\"Johnston, Mrs. A...|female|30.295180722891565|    1|    2|      W./C. 6607|  23.45|           null|       S|     1.0|\n",
              "|        928|       1|     3| Roth, Miss. Sarah A|female|30.295180722891565|    0|    0|          342712|   8.05|           null|       S|     1.0|\n",
              "|        935|       1|     2|Corbett, Mrs. Wal...|female|              30.0|    0|    0|          237249|   13.0|           null|       S|     1.0|\n",
              "|        936|       1|     1|Kimball, Mrs. Edw...|female|              45.0|    1|    0|           11753|52.5542|            D19|       S|     1.0|\n",
              "|        940|       1|     1|Bucknell, Mrs. Wi...|female|              60.0|    0|    0|           11813|76.2917|            D15|       C|     1.0|\n",
              "|        941|       1|     3|\"Coutts, Mrs. Wil...|female|              36.0|    0|    2|      C.A. 37671|   15.9|           null|       S|     1.0|\n",
              "|        945|       1|     1|Fortune, Miss. Et...|female|              28.0|    3|    2|           19950|  263.0|    C23 C25 C27|       S|     1.0|\n",
              "|        951|       1|     1|Chaudanson, Miss....|female|              36.0|    0|    0|        PC 17608|262.375|            B61|       C|     1.0|\n",
              "|        957|       1|     2|Corey, Mrs. Percy...|female|30.295180722891565|    0|    0|    F.C.C. 13534|   21.0|           null|       S|     1.0|\n",
              "|        961|       1|     1|Fortune, Mrs. Mar...|female|              60.0|    1|    4|           19950|  263.0|    C23 C25 C27|       S|     1.0|\n",
              "|        964|       1|     3|Nieminen, Miss. M...|female|              29.0|    0|    0|         3101297|  7.925|           null|       S|     1.0|\n",
              "|        966|       1|     1|Geiger, Miss. Amalie|female|              35.0|    0|    0|          113503|  211.5|           C130|       C|     1.0|\n",
              "+-----------+--------+------+--------------------+------+------------------+-----+-----+----------------+-------+---------------+--------+--------+\n",
              "only showing top 20 rows"
            ],
            "text/html": [
              "<table border='1'>\n",
              "<tr><th>PassengerId</th><th>Survived</th><th>Pclass</th><th>Name</th><th>Sex</th><th>Age</th><th>SibSp</th><th>Parch</th><th>Ticket</th><th>Fare</th><th>Cabin</th><th>Embarked</th><th>SexIndex</th></tr>\n",
              "<tr><td>893</td><td>1</td><td>3</td><td>Wilkes, Mrs. Jame...</td><td>female</td><td>47.0</td><td>1</td><td>0</td><td>363272</td><td>7.0</td><td>null</td><td>S</td><td>1.0</td></tr>\n",
              "<tr><td>898</td><td>1</td><td>3</td><td>Connolly, Miss. Kate</td><td>female</td><td>30.0</td><td>0</td><td>0</td><td>330972</td><td>7.6292</td><td>null</td><td>Q</td><td>1.0</td></tr>\n",
              "<tr><td>906</td><td>1</td><td>1</td><td>Chaffee, Mrs. Her...</td><td>female</td><td>47.0</td><td>1</td><td>0</td><td>W.E.P. 5734</td><td>61.175</td><td>E31</td><td>S</td><td>1.0</td></tr>\n",
              "<tr><td>910</td><td>1</td><td>3</td><td>Ilmakangas, Miss....</td><td>female</td><td>27.0</td><td>1</td><td>0</td><td>STON/O2. 3101270</td><td>7.925</td><td>null</td><td>S</td><td>1.0</td></tr>\n",
              "<tr><td>911</td><td>1</td><td>3</td><td>&quot;Assaf Khalil, Mr...</td><td>female</td><td>45.0</td><td>0</td><td>0</td><td>2696</td><td>7.225</td><td>null</td><td>C</td><td>1.0</td></tr>\n",
              "<tr><td>914</td><td>1</td><td>1</td><td>Flegenheim, Mrs. ...</td><td>female</td><td>30.295180722891565</td><td>0</td><td>0</td><td>PC 17598</td><td>31.6833</td><td>null</td><td>S</td><td>1.0</td></tr>\n",
              "<tr><td>916</td><td>1</td><td>1</td><td>Ryerson, Mrs. Art...</td><td>female</td><td>48.0</td><td>1</td><td>3</td><td>PC 17608</td><td>262.375</td><td>B57 B59 B63 B66</td><td>C</td><td>1.0</td></tr>\n",
              "<tr><td>924</td><td>1</td><td>3</td><td>Dean, Mrs. Bertra...</td><td>female</td><td>33.0</td><td>1</td><td>2</td><td>C.A. 2315</td><td>20.575</td><td>null</td><td>S</td><td>1.0</td></tr>\n",
              "<tr><td>925</td><td>1</td><td>3</td><td>&quot;Johnston, Mrs. A...</td><td>female</td><td>30.295180722891565</td><td>1</td><td>2</td><td>W./C. 6607</td><td>23.45</td><td>null</td><td>S</td><td>1.0</td></tr>\n",
              "<tr><td>928</td><td>1</td><td>3</td><td>Roth, Miss. Sarah A</td><td>female</td><td>30.295180722891565</td><td>0</td><td>0</td><td>342712</td><td>8.05</td><td>null</td><td>S</td><td>1.0</td></tr>\n",
              "<tr><td>935</td><td>1</td><td>2</td><td>Corbett, Mrs. Wal...</td><td>female</td><td>30.0</td><td>0</td><td>0</td><td>237249</td><td>13.0</td><td>null</td><td>S</td><td>1.0</td></tr>\n",
              "<tr><td>936</td><td>1</td><td>1</td><td>Kimball, Mrs. Edw...</td><td>female</td><td>45.0</td><td>1</td><td>0</td><td>11753</td><td>52.5542</td><td>D19</td><td>S</td><td>1.0</td></tr>\n",
              "<tr><td>940</td><td>1</td><td>1</td><td>Bucknell, Mrs. Wi...</td><td>female</td><td>60.0</td><td>0</td><td>0</td><td>11813</td><td>76.2917</td><td>D15</td><td>C</td><td>1.0</td></tr>\n",
              "<tr><td>941</td><td>1</td><td>3</td><td>&quot;Coutts, Mrs. Wil...</td><td>female</td><td>36.0</td><td>0</td><td>2</td><td>C.A. 37671</td><td>15.9</td><td>null</td><td>S</td><td>1.0</td></tr>\n",
              "<tr><td>945</td><td>1</td><td>1</td><td>Fortune, Miss. Et...</td><td>female</td><td>28.0</td><td>3</td><td>2</td><td>19950</td><td>263.0</td><td>C23 C25 C27</td><td>S</td><td>1.0</td></tr>\n",
              "<tr><td>951</td><td>1</td><td>1</td><td>Chaudanson, Miss....</td><td>female</td><td>36.0</td><td>0</td><td>0</td><td>PC 17608</td><td>262.375</td><td>B61</td><td>C</td><td>1.0</td></tr>\n",
              "<tr><td>957</td><td>1</td><td>2</td><td>Corey, Mrs. Percy...</td><td>female</td><td>30.295180722891565</td><td>0</td><td>0</td><td>F.C.C. 13534</td><td>21.0</td><td>null</td><td>S</td><td>1.0</td></tr>\n",
              "<tr><td>961</td><td>1</td><td>1</td><td>Fortune, Mrs. Mar...</td><td>female</td><td>60.0</td><td>1</td><td>4</td><td>19950</td><td>263.0</td><td>C23 C25 C27</td><td>S</td><td>1.0</td></tr>\n",
              "<tr><td>964</td><td>1</td><td>3</td><td>Nieminen, Miss. M...</td><td>female</td><td>29.0</td><td>0</td><td>0</td><td>3101297</td><td>7.925</td><td>null</td><td>S</td><td>1.0</td></tr>\n",
              "<tr><td>966</td><td>1</td><td>1</td><td>Geiger, Miss. Amalie</td><td>female</td><td>35.0</td><td>0</td><td>0</td><td>113503</td><td>211.5</td><td>C130</td><td>C</td><td>1.0</td></tr>\n",
              "</table>\n",
              "only showing top 20 rows\n"
            ]
          },
          "metadata": {},
          "execution_count": 12
        }
      ]
    },
    {
      "cell_type": "code",
      "metadata": {
        "colab": {
          "base_uri": "https://localhost:8080/",
          "height": 65
        },
        "id": "GEHGy5_hzXkh",
        "outputId": "c0269dd5-10bb-4cfc-b811-eac13e12fa3d"
      },
      "source": [
        "titanic_df.agg({'Fare':'avg'})"
      ],
      "execution_count": 13,
      "outputs": [
        {
          "output_type": "execute_result",
          "data": {
            "text/plain": [
              "+----------------+\n",
              "|       avg(Fare)|\n",
              "+----------------+\n",
              "|35.6271884892086|\n",
              "+----------------+"
            ],
            "text/html": [
              "<table border='1'>\n",
              "<tr><th>avg(Fare)</th></tr>\n",
              "<tr><td>35.6271884892086</td></tr>\n",
              "</table>\n"
            ]
          },
          "metadata": {},
          "execution_count": 13
        }
      ]
    },
    {
      "cell_type": "code",
      "metadata": {
        "colab": {
          "base_uri": "https://localhost:8080/",
          "height": 110
        },
        "id": "G2V25e_y0JAg",
        "outputId": "481f5f7b-5134-4738-a5e9-fcb2973b13c6"
      },
      "source": [
        "titanic_df.groupBy('Pclass').agg({'Fare':'avg'}).orderBy('Pclass', ascending=False)"
      ],
      "execution_count": 14,
      "outputs": [
        {
          "output_type": "execute_result",
          "data": {
            "text/plain": [
              "+------+-----------------+\n",
              "|Pclass|        avg(Fare)|\n",
              "+------+-----------------+\n",
              "|     3| 12.5659508646294|\n",
              "|     2|22.20210430107527|\n",
              "|     1|94.28029719626169|\n",
              "+------+-----------------+"
            ],
            "text/html": [
              "<table border='1'>\n",
              "<tr><th>Pclass</th><th>avg(Fare)</th></tr>\n",
              "<tr><td>3</td><td>12.5659508646294</td></tr>\n",
              "<tr><td>2</td><td>22.20210430107527</td></tr>\n",
              "<tr><td>1</td><td>94.28029719626169</td></tr>\n",
              "</table>\n"
            ]
          },
          "metadata": {},
          "execution_count": 14
        }
      ]
    },
    {
      "cell_type": "code",
      "source": [
        "titanic_df.groupBy('Survived',\"Sex\").count()"
      ],
      "metadata": {
        "colab": {
          "base_uri": "https://localhost:8080/",
          "height": 88
        },
        "id": "sL36GEXbwToO",
        "outputId": "0e86972f-ebb4-4501-9686-9103b2cf1bfa"
      },
      "execution_count": 15,
      "outputs": [
        {
          "output_type": "execute_result",
          "data": {
            "text/plain": [
              "+--------+------+-----+\n",
              "|Survived|   Sex|count|\n",
              "+--------+------+-----+\n",
              "|       1|female|  152|\n",
              "|       0|  male|  266|\n",
              "+--------+------+-----+"
            ],
            "text/html": [
              "<table border='1'>\n",
              "<tr><th>Survived</th><th>Sex</th><th>count</th></tr>\n",
              "<tr><td>1</td><td>female</td><td>152</td></tr>\n",
              "<tr><td>0</td><td>male</td><td>266</td></tr>\n",
              "</table>\n"
            ]
          },
          "metadata": {},
          "execution_count": 15
        }
      ]
    },
    {
      "cell_type": "markdown",
      "source": [
        "selon cette base de données, seulement les females ont pu survivre "
      ],
      "metadata": {
        "id": "oSIMHls3v-KA"
      }
    },
    {
      "cell_type": "code",
      "source": [
        "titanic_df.groupBy('Survived',\"Pclass\").count().orderBy(\"count\",ascending=False)"
      ],
      "metadata": {
        "outputId": "bd97f1ac-9eab-4e0b-f842-65529a583c66",
        "colab": {
          "base_uri": "https://localhost:8080/",
          "height": 178
        },
        "id": "4ps4QXCLxqQg"
      },
      "execution_count": 16,
      "outputs": [
        {
          "output_type": "execute_result",
          "data": {
            "text/plain": [
              "+--------+------+-----+\n",
              "|Survived|Pclass|count|\n",
              "+--------+------+-----+\n",
              "|       0|     3|  146|\n",
              "|       1|     3|   72|\n",
              "|       0|     2|   63|\n",
              "|       0|     1|   57|\n",
              "|       1|     1|   50|\n",
              "|       1|     2|   30|\n",
              "+--------+------+-----+"
            ],
            "text/html": [
              "<table border='1'>\n",
              "<tr><th>Survived</th><th>Pclass</th><th>count</th></tr>\n",
              "<tr><td>0</td><td>3</td><td>146</td></tr>\n",
              "<tr><td>1</td><td>3</td><td>72</td></tr>\n",
              "<tr><td>0</td><td>2</td><td>63</td></tr>\n",
              "<tr><td>0</td><td>1</td><td>57</td></tr>\n",
              "<tr><td>1</td><td>1</td><td>50</td></tr>\n",
              "<tr><td>1</td><td>2</td><td>30</td></tr>\n",
              "</table>\n"
            ]
          },
          "metadata": {},
          "execution_count": 16
        }
      ]
    },
    {
      "cell_type": "code",
      "source": [
        "titanic_df.filter((titanic_df.Age > 60) & (titanic_df.Survived == 1) )"
      ],
      "metadata": {
        "id": "X8h7x2YC0O-A",
        "outputId": "27ca844f-19a8-40d3-bd03-13abdda20ad7",
        "colab": {
          "base_uri": "https://localhost:8080/",
          "height": 133
        }
      },
      "execution_count": 17,
      "outputs": [
        {
          "output_type": "execute_result",
          "data": {
            "text/plain": [
              "+-----------+--------+------+--------------------+------+----+-----+-----+--------+--------+-------+--------+--------+\n",
              "|PassengerId|Survived|Pclass|                Name|   Sex| Age|SibSp|Parch|  Ticket|    Fare|  Cabin|Embarked|SexIndex|\n",
              "+-----------+--------+------+--------------------+------+----+-----+-----+--------+--------+-------+--------+--------+\n",
              "|        988|       1|     1|Cavendish, Mrs. T...|female|76.0|    1|    0|   19877|   78.85|    C46|       S|     1.0|\n",
              "|       1006|       1|     1|Straus, Mrs. Isid...|female|63.0|    1|    0|PC 17483|221.7792|C55 C57|       S|     1.0|\n",
              "|       1071|       1|     1|Compton, Mrs. Ale...|female|64.0|    0|    2|PC 17756| 83.1583|    E45|       C|     1.0|\n",
              "|       1197|       1|     1|Crosby, Mrs. Edwa...|female|64.0|    1|    1|  112901|   26.55|    B26|       S|     1.0|\n",
              "+-----------+--------+------+--------------------+------+----+-----+-----+--------+--------+-------+--------+--------+"
            ],
            "text/html": [
              "<table border='1'>\n",
              "<tr><th>PassengerId</th><th>Survived</th><th>Pclass</th><th>Name</th><th>Sex</th><th>Age</th><th>SibSp</th><th>Parch</th><th>Ticket</th><th>Fare</th><th>Cabin</th><th>Embarked</th><th>SexIndex</th></tr>\n",
              "<tr><td>988</td><td>1</td><td>1</td><td>Cavendish, Mrs. T...</td><td>female</td><td>76.0</td><td>1</td><td>0</td><td>19877</td><td>78.85</td><td>C46</td><td>S</td><td>1.0</td></tr>\n",
              "<tr><td>1006</td><td>1</td><td>1</td><td>Straus, Mrs. Isid...</td><td>female</td><td>63.0</td><td>1</td><td>0</td><td>PC 17483</td><td>221.7792</td><td>C55 C57</td><td>S</td><td>1.0</td></tr>\n",
              "<tr><td>1071</td><td>1</td><td>1</td><td>Compton, Mrs. Ale...</td><td>female</td><td>64.0</td><td>0</td><td>2</td><td>PC 17756</td><td>83.1583</td><td>E45</td><td>C</td><td>1.0</td></tr>\n",
              "<tr><td>1197</td><td>1</td><td>1</td><td>Crosby, Mrs. Edwa...</td><td>female</td><td>64.0</td><td>1</td><td>1</td><td>112901</td><td>26.55</td><td>B26</td><td>S</td><td>1.0</td></tr>\n",
              "</table>\n"
            ]
          },
          "metadata": {},
          "execution_count": 17
        }
      ]
    },
    {
      "cell_type": "code",
      "metadata": {
        "colab": {
          "base_uri": "https://localhost:8080/",
          "height": 65
        },
        "id": "PJn-tWnT0k-a",
        "outputId": "540dbc9b-55d1-474c-816c-f55beaea73a9"
      },
      "source": [
        "titanic_df.filter(titanic_df.Age > 25).agg({'Fare':'avg'})"
      ],
      "execution_count": 18,
      "outputs": [
        {
          "output_type": "execute_result",
          "data": {
            "text/plain": [
              "+-----------------+\n",
              "|        avg(Fare)|\n",
              "+-----------------+\n",
              "|41.85656010322175|\n",
              "+-----------------+"
            ],
            "text/html": [
              "<table border='1'>\n",
              "<tr><th>avg(Fare)</th></tr>\n",
              "<tr><td>41.85656010322175</td></tr>\n",
              "</table>\n"
            ]
          },
          "metadata": {},
          "execution_count": 18
        }
      ]
    },
    {
      "cell_type": "code",
      "source": [
        "from pyspark.sql import functions as F\n",
        "titanic_df.groupby('Survived').agg(F.min(titanic_df['Age']),F.max(titanic_df['age'])).show()"
      ],
      "metadata": {
        "id": "Fn9Y8rqNeWkp",
        "outputId": "3fae2dff-a3fd-4440-9f72-233a402e4580",
        "colab": {
          "base_uri": "https://localhost:8080/"
        }
      },
      "execution_count": 19,
      "outputs": [
        {
          "output_type": "stream",
          "name": "stdout",
          "text": [
            "+--------+--------+--------+\n",
            "|Survived|min(Age)|max(age)|\n",
            "+--------+--------+--------+\n",
            "|       1|     0.0|    76.0|\n",
            "|       0|     0.0|    67.0|\n",
            "+--------+--------+--------+\n",
            "\n"
          ]
        }
      ]
    },
    {
      "cell_type": "code",
      "source": [
        "titanic_df.groupby('Age').pivot('Sex').count()"
      ],
      "metadata": {
        "id": "DyqGF2FBflsJ",
        "outputId": "7fbff01e-ef37-4a53-a8c1-b22588d00b3e",
        "colab": {
          "base_uri": "https://localhost:8080/",
          "height": 511
        }
      },
      "execution_count": 20,
      "outputs": [
        {
          "output_type": "execute_result",
          "data": {
            "text/plain": [
              "+----+------+----+\n",
              "| Age|female|male|\n",
              "+----+------+----+\n",
              "| 8.0|     1|   1|\n",
              "|67.0|  null|   1|\n",
              "| 0.0|     1|   1|\n",
              "| 7.0|  null|   1|\n",
              "|49.0|  null|   3|\n",
              "|29.0|     5|   6|\n",
              "|64.0|     2|   1|\n",
              "|47.0|     2|   3|\n",
              "|42.0|  null|   5|\n",
              "|44.0|  null|   1|\n",
              "|35.0|     3|   3|\n",
              "|62.0|  null|   1|\n",
              "|18.0|     7|   6|\n",
              "| 1.0|     4|   2|\n",
              "|39.0|     2|   5|\n",
              "|37.0|     2|   2|\n",
              "|34.0|  null|   1|\n",
              "|25.0|     1|  10|\n",
              "|36.0|     5|   4|\n",
              "|41.0|  null|   6|\n",
              "+----+------+----+\n",
              "only showing top 20 rows"
            ],
            "text/html": [
              "<table border='1'>\n",
              "<tr><th>Age</th><th>female</th><th>male</th></tr>\n",
              "<tr><td>8.0</td><td>1</td><td>1</td></tr>\n",
              "<tr><td>67.0</td><td>null</td><td>1</td></tr>\n",
              "<tr><td>0.0</td><td>1</td><td>1</td></tr>\n",
              "<tr><td>7.0</td><td>null</td><td>1</td></tr>\n",
              "<tr><td>49.0</td><td>null</td><td>3</td></tr>\n",
              "<tr><td>29.0</td><td>5</td><td>6</td></tr>\n",
              "<tr><td>64.0</td><td>2</td><td>1</td></tr>\n",
              "<tr><td>47.0</td><td>2</td><td>3</td></tr>\n",
              "<tr><td>42.0</td><td>null</td><td>5</td></tr>\n",
              "<tr><td>44.0</td><td>null</td><td>1</td></tr>\n",
              "<tr><td>35.0</td><td>3</td><td>3</td></tr>\n",
              "<tr><td>62.0</td><td>null</td><td>1</td></tr>\n",
              "<tr><td>18.0</td><td>7</td><td>6</td></tr>\n",
              "<tr><td>1.0</td><td>4</td><td>2</td></tr>\n",
              "<tr><td>39.0</td><td>2</td><td>5</td></tr>\n",
              "<tr><td>37.0</td><td>2</td><td>2</td></tr>\n",
              "<tr><td>34.0</td><td>null</td><td>1</td></tr>\n",
              "<tr><td>25.0</td><td>1</td><td>10</td></tr>\n",
              "<tr><td>36.0</td><td>5</td><td>4</td></tr>\n",
              "<tr><td>41.0</td><td>null</td><td>6</td></tr>\n",
              "</table>\n",
              "only showing top 20 rows\n"
            ]
          },
          "metadata": {},
          "execution_count": 20
        }
      ]
    },
    {
      "cell_type": "code",
      "source": [
        "titanic_df.groupby('Survived').pivot('Sex').count()"
      ],
      "metadata": {
        "id": "NzCtR0JMfrcD",
        "outputId": "4d3fe23d-bcea-46ff-c899-a3a8450002d7",
        "colab": {
          "base_uri": "https://localhost:8080/",
          "height": 88
        }
      },
      "execution_count": 21,
      "outputs": [
        {
          "output_type": "execute_result",
          "data": {
            "text/plain": [
              "+--------+------+----+\n",
              "|Survived|female|male|\n",
              "+--------+------+----+\n",
              "|       1|   152|null|\n",
              "|       0|  null| 266|\n",
              "+--------+------+----+"
            ],
            "text/html": [
              "<table border='1'>\n",
              "<tr><th>Survived</th><th>female</th><th>male</th></tr>\n",
              "<tr><td>1</td><td>152</td><td>null</td></tr>\n",
              "<tr><td>0</td><td>null</td><td>266</td></tr>\n",
              "</table>\n"
            ]
          },
          "metadata": {},
          "execution_count": 21
        }
      ]
    },
    {
      "cell_type": "code",
      "source": [
        "titanic_df.groupby('Age').pivot('Survived').count()"
      ],
      "metadata": {
        "id": "9L72kVWQfzuk",
        "outputId": "b8552c3e-fe4b-4cb0-cbce-b9f52045469e",
        "colab": {
          "base_uri": "https://localhost:8080/",
          "height": 511
        }
      },
      "execution_count": 22,
      "outputs": [
        {
          "output_type": "execute_result",
          "data": {
            "text/plain": [
              "+----+---+----+\n",
              "| Age|  0|   1|\n",
              "+----+---+----+\n",
              "| 8.0|  1|   1|\n",
              "|67.0|  1|null|\n",
              "| 0.0|  1|   1|\n",
              "| 7.0|  1|null|\n",
              "|49.0|  3|null|\n",
              "|29.0|  6|   5|\n",
              "|64.0|  1|   2|\n",
              "|47.0|  3|   2|\n",
              "|42.0|  5|null|\n",
              "|44.0|  1|null|\n",
              "|62.0|  1|null|\n",
              "|35.0|  3|   3|\n",
              "|18.0|  6|   7|\n",
              "| 1.0|  2|   4|\n",
              "|39.0|  5|   2|\n",
              "|34.0|  1|null|\n",
              "|37.0|  2|   2|\n",
              "|25.0| 10|   1|\n",
              "|36.0|  4|   5|\n",
              "|41.0|  6|null|\n",
              "+----+---+----+\n",
              "only showing top 20 rows"
            ],
            "text/html": [
              "<table border='1'>\n",
              "<tr><th>Age</th><th>0</th><th>1</th></tr>\n",
              "<tr><td>8.0</td><td>1</td><td>1</td></tr>\n",
              "<tr><td>67.0</td><td>1</td><td>null</td></tr>\n",
              "<tr><td>0.0</td><td>1</td><td>1</td></tr>\n",
              "<tr><td>7.0</td><td>1</td><td>null</td></tr>\n",
              "<tr><td>49.0</td><td>3</td><td>null</td></tr>\n",
              "<tr><td>29.0</td><td>6</td><td>5</td></tr>\n",
              "<tr><td>64.0</td><td>1</td><td>2</td></tr>\n",
              "<tr><td>47.0</td><td>3</td><td>2</td></tr>\n",
              "<tr><td>42.0</td><td>5</td><td>null</td></tr>\n",
              "<tr><td>44.0</td><td>1</td><td>null</td></tr>\n",
              "<tr><td>62.0</td><td>1</td><td>null</td></tr>\n",
              "<tr><td>35.0</td><td>3</td><td>3</td></tr>\n",
              "<tr><td>18.0</td><td>6</td><td>7</td></tr>\n",
              "<tr><td>1.0</td><td>2</td><td>4</td></tr>\n",
              "<tr><td>39.0</td><td>5</td><td>2</td></tr>\n",
              "<tr><td>34.0</td><td>1</td><td>null</td></tr>\n",
              "<tr><td>37.0</td><td>2</td><td>2</td></tr>\n",
              "<tr><td>25.0</td><td>10</td><td>1</td></tr>\n",
              "<tr><td>36.0</td><td>4</td><td>5</td></tr>\n",
              "<tr><td>41.0</td><td>6</td><td>null</td></tr>\n",
              "</table>\n",
              "only showing top 20 rows\n"
            ]
          },
          "metadata": {},
          "execution_count": 22
        }
      ]
    },
    {
      "cell_type": "code",
      "metadata": {
        "colab": {
          "base_uri": "https://localhost:8080/",
          "height": 156
        },
        "id": "ZXKqzebR1E1K",
        "outputId": "5d05e085-c752-4b64-e0fe-e76af74f170c"
      },
      "source": [
        "def round_float_down(x):\n",
        "  return int(x)\n",
        "round_float_down_udf = udf(round_float_down, IntegerType())\n",
        "\n",
        "titanic_df.select('PassengerId', 'Fare', round_float_down_udf('Fare').alias('Fare Rounded Down')).limit(5)"
      ],
      "execution_count": 23,
      "outputs": [
        {
          "output_type": "execute_result",
          "data": {
            "text/plain": [
              "+-----------+-------+-----------------+\n",
              "|PassengerId|   Fare|Fare Rounded Down|\n",
              "+-----------+-------+-----------------+\n",
              "|        892| 7.8292|                7|\n",
              "|        893|    7.0|                7|\n",
              "|        894| 9.6875|                9|\n",
              "|        895| 8.6625|                8|\n",
              "|        896|12.2875|               12|\n",
              "+-----------+-------+-----------------+"
            ],
            "text/html": [
              "<table border='1'>\n",
              "<tr><th>PassengerId</th><th>Fare</th><th>Fare Rounded Down</th></tr>\n",
              "<tr><td>892</td><td>7.8292</td><td>7</td></tr>\n",
              "<tr><td>893</td><td>7.0</td><td>7</td></tr>\n",
              "<tr><td>894</td><td>9.6875</td><td>9</td></tr>\n",
              "<tr><td>895</td><td>8.6625</td><td>8</td></tr>\n",
              "<tr><td>896</td><td>12.2875</td><td>12</td></tr>\n",
              "</table>\n"
            ]
          },
          "metadata": {},
          "execution_count": 23
        }
      ]
    },
    {
      "cell_type": "code",
      "metadata": {
        "id": "MWPD_OVW3cuj"
      },
      "source": [
        "titanic_df.createOrReplaceTempView(\"Titanic\") # tell PySpark how the table will be called in the SQL query"
      ],
      "execution_count": 24,
      "outputs": []
    },
    {
      "cell_type": "code",
      "metadata": {
        "colab": {
          "base_uri": "https://localhost:8080/",
          "height": 511
        },
        "id": "KTd3cKm12fxz",
        "outputId": "8e02af12-da1b-4e1a-9611-722780a297c9"
      },
      "source": [
        "spark.sql('select * from Titanic')"
      ],
      "execution_count": 25,
      "outputs": [
        {
          "output_type": "execute_result",
          "data": {
            "text/plain": [
              "+-----------+--------+------+--------------------+------+------------------+-----+-----+----------------+-------+-----+--------+--------+\n",
              "|PassengerId|Survived|Pclass|                Name|   Sex|               Age|SibSp|Parch|          Ticket|   Fare|Cabin|Embarked|SexIndex|\n",
              "+-----------+--------+------+--------------------+------+------------------+-----+-----+----------------+-------+-----+--------+--------+\n",
              "|        892|       0|     3|    Kelly, Mr. James|  male|              35.0|    0|    0|          330911| 7.8292| null|       Q|     0.0|\n",
              "|        893|       1|     3|Wilkes, Mrs. Jame...|female|              47.0|    1|    0|          363272|    7.0| null|       S|     1.0|\n",
              "|        894|       0|     2|Myles, Mr. Thomas...|  male|              62.0|    0|    0|          240276| 9.6875| null|       Q|     0.0|\n",
              "|        895|       0|     3|    Wirz, Mr. Albert|  male|              27.0|    0|    0|          315154| 8.6625| null|       S|     0.0|\n",
              "|        896|       1|     3|Hirvonen, Mrs. Al...|female|              22.0|    1|    1|         3101298|12.2875| null|       S|     1.0|\n",
              "|        897|       0|     3|Svensson, Mr. Joh...|  male|              14.0|    0|    0|            7538|  9.225| null|       S|     0.0|\n",
              "|        898|       1|     3|Connolly, Miss. Kate|female|              30.0|    0|    0|          330972| 7.6292| null|       Q|     1.0|\n",
              "|        899|       0|     2|Caldwell, Mr. Alb...|  male|              26.0|    1|    1|          248738|   29.0| null|       S|     0.0|\n",
              "|        900|       1|     3|Abrahim, Mrs. Jos...|female|              18.0|    0|    0|            2657| 7.2292| null|       C|     1.0|\n",
              "|        901|       0|     3|Davies, Mr. John ...|  male|              21.0|    2|    0|       A/4 48871|  24.15| null|       S|     0.0|\n",
              "|        902|       0|     3|    Ilieff, Mr. Ylio|  male|30.295180722891565|    0|    0|          349220| 7.8958| null|       S|     0.0|\n",
              "|        903|       0|     1|Jones, Mr. Charle...|  male|              46.0|    0|    0|             694|   26.0| null|       S|     0.0|\n",
              "|        904|       1|     1|Snyder, Mrs. John...|female|              23.0|    1|    0|           21228|82.2667|  B45|       S|     1.0|\n",
              "|        905|       0|     2|Howard, Mr. Benjamin|  male|              63.0|    1|    0|           24065|   26.0| null|       S|     0.0|\n",
              "|        906|       1|     1|Chaffee, Mrs. Her...|female|              47.0|    1|    0|     W.E.P. 5734| 61.175|  E31|       S|     1.0|\n",
              "|        907|       1|     2|del Carlo, Mrs. S...|female|              24.0|    1|    0|   SC/PARIS 2167|27.7208| null|       C|     1.0|\n",
              "|        908|       0|     2|   Keane, Mr. Daniel|  male|              35.0|    0|    0|          233734|  12.35| null|       Q|     0.0|\n",
              "|        909|       0|     3|   Assaf, Mr. Gerios|  male|              21.0|    0|    0|            2692|  7.225| null|       C|     0.0|\n",
              "|        910|       1|     3|Ilmakangas, Miss....|female|              27.0|    1|    0|STON/O2. 3101270|  7.925| null|       S|     1.0|\n",
              "|        911|       1|     3|\"Assaf Khalil, Mr...|female|              45.0|    0|    0|            2696|  7.225| null|       C|     1.0|\n",
              "+-----------+--------+------+--------------------+------+------------------+-----+-----+----------------+-------+-----+--------+--------+\n",
              "only showing top 20 rows"
            ],
            "text/html": [
              "<table border='1'>\n",
              "<tr><th>PassengerId</th><th>Survived</th><th>Pclass</th><th>Name</th><th>Sex</th><th>Age</th><th>SibSp</th><th>Parch</th><th>Ticket</th><th>Fare</th><th>Cabin</th><th>Embarked</th><th>SexIndex</th></tr>\n",
              "<tr><td>892</td><td>0</td><td>3</td><td>Kelly, Mr. James</td><td>male</td><td>35.0</td><td>0</td><td>0</td><td>330911</td><td>7.8292</td><td>null</td><td>Q</td><td>0.0</td></tr>\n",
              "<tr><td>893</td><td>1</td><td>3</td><td>Wilkes, Mrs. Jame...</td><td>female</td><td>47.0</td><td>1</td><td>0</td><td>363272</td><td>7.0</td><td>null</td><td>S</td><td>1.0</td></tr>\n",
              "<tr><td>894</td><td>0</td><td>2</td><td>Myles, Mr. Thomas...</td><td>male</td><td>62.0</td><td>0</td><td>0</td><td>240276</td><td>9.6875</td><td>null</td><td>Q</td><td>0.0</td></tr>\n",
              "<tr><td>895</td><td>0</td><td>3</td><td>Wirz, Mr. Albert</td><td>male</td><td>27.0</td><td>0</td><td>0</td><td>315154</td><td>8.6625</td><td>null</td><td>S</td><td>0.0</td></tr>\n",
              "<tr><td>896</td><td>1</td><td>3</td><td>Hirvonen, Mrs. Al...</td><td>female</td><td>22.0</td><td>1</td><td>1</td><td>3101298</td><td>12.2875</td><td>null</td><td>S</td><td>1.0</td></tr>\n",
              "<tr><td>897</td><td>0</td><td>3</td><td>Svensson, Mr. Joh...</td><td>male</td><td>14.0</td><td>0</td><td>0</td><td>7538</td><td>9.225</td><td>null</td><td>S</td><td>0.0</td></tr>\n",
              "<tr><td>898</td><td>1</td><td>3</td><td>Connolly, Miss. Kate</td><td>female</td><td>30.0</td><td>0</td><td>0</td><td>330972</td><td>7.6292</td><td>null</td><td>Q</td><td>1.0</td></tr>\n",
              "<tr><td>899</td><td>0</td><td>2</td><td>Caldwell, Mr. Alb...</td><td>male</td><td>26.0</td><td>1</td><td>1</td><td>248738</td><td>29.0</td><td>null</td><td>S</td><td>0.0</td></tr>\n",
              "<tr><td>900</td><td>1</td><td>3</td><td>Abrahim, Mrs. Jos...</td><td>female</td><td>18.0</td><td>0</td><td>0</td><td>2657</td><td>7.2292</td><td>null</td><td>C</td><td>1.0</td></tr>\n",
              "<tr><td>901</td><td>0</td><td>3</td><td>Davies, Mr. John ...</td><td>male</td><td>21.0</td><td>2</td><td>0</td><td>A/4 48871</td><td>24.15</td><td>null</td><td>S</td><td>0.0</td></tr>\n",
              "<tr><td>902</td><td>0</td><td>3</td><td>Ilieff, Mr. Ylio</td><td>male</td><td>30.295180722891565</td><td>0</td><td>0</td><td>349220</td><td>7.8958</td><td>null</td><td>S</td><td>0.0</td></tr>\n",
              "<tr><td>903</td><td>0</td><td>1</td><td>Jones, Mr. Charle...</td><td>male</td><td>46.0</td><td>0</td><td>0</td><td>694</td><td>26.0</td><td>null</td><td>S</td><td>0.0</td></tr>\n",
              "<tr><td>904</td><td>1</td><td>1</td><td>Snyder, Mrs. John...</td><td>female</td><td>23.0</td><td>1</td><td>0</td><td>21228</td><td>82.2667</td><td>B45</td><td>S</td><td>1.0</td></tr>\n",
              "<tr><td>905</td><td>0</td><td>2</td><td>Howard, Mr. Benjamin</td><td>male</td><td>63.0</td><td>1</td><td>0</td><td>24065</td><td>26.0</td><td>null</td><td>S</td><td>0.0</td></tr>\n",
              "<tr><td>906</td><td>1</td><td>1</td><td>Chaffee, Mrs. Her...</td><td>female</td><td>47.0</td><td>1</td><td>0</td><td>W.E.P. 5734</td><td>61.175</td><td>E31</td><td>S</td><td>1.0</td></tr>\n",
              "<tr><td>907</td><td>1</td><td>2</td><td>del Carlo, Mrs. S...</td><td>female</td><td>24.0</td><td>1</td><td>0</td><td>SC/PARIS 2167</td><td>27.7208</td><td>null</td><td>C</td><td>1.0</td></tr>\n",
              "<tr><td>908</td><td>0</td><td>2</td><td>Keane, Mr. Daniel</td><td>male</td><td>35.0</td><td>0</td><td>0</td><td>233734</td><td>12.35</td><td>null</td><td>Q</td><td>0.0</td></tr>\n",
              "<tr><td>909</td><td>0</td><td>3</td><td>Assaf, Mr. Gerios</td><td>male</td><td>21.0</td><td>0</td><td>0</td><td>2692</td><td>7.225</td><td>null</td><td>C</td><td>0.0</td></tr>\n",
              "<tr><td>910</td><td>1</td><td>3</td><td>Ilmakangas, Miss....</td><td>female</td><td>27.0</td><td>1</td><td>0</td><td>STON/O2. 3101270</td><td>7.925</td><td>null</td><td>S</td><td>1.0</td></tr>\n",
              "<tr><td>911</td><td>1</td><td>3</td><td>&quot;Assaf Khalil, Mr...</td><td>female</td><td>45.0</td><td>0</td><td>0</td><td>2696</td><td>7.225</td><td>null</td><td>C</td><td>1.0</td></tr>\n",
              "</table>\n",
              "only showing top 20 rows\n"
            ]
          },
          "metadata": {},
          "execution_count": 25
        }
      ]
    },
    {
      "cell_type": "code",
      "metadata": {
        "id": "DBEUfMqC3ioi",
        "outputId": "520cc5ee-bd12-4c8a-b32c-0a87d7ef1f6a",
        "colab": {
          "base_uri": "https://localhost:8080/"
        }
      },
      "source": [
        "# devide dataset to training features and target\n",
        "X_column_names = [\"Pclass\",\"SexIndex\",\"Age\",\"Fare\"]\n",
        "target_colum_name = ['Survived']\n",
        "\n",
        "# convert feature columns into a columns where the vlues are feature vectors\n",
        "from pyspark.ml.feature import VectorAssembler\n",
        "v_asmblr = VectorAssembler(inputCols=X_column_names, outputCol='Inputvec')\n",
        "titanic_df = v_asmblr.transform(titanic_df)\n",
        "X = titanic_df.select(['Inputvec','Survived'])\n",
        "X.show()"
      ],
      "execution_count": 26,
      "outputs": [
        {
          "output_type": "stream",
          "name": "stdout",
          "text": [
            "+--------------------+--------+\n",
            "|            Inputvec|Survived|\n",
            "+--------------------+--------+\n",
            "|[3.0,0.0,35.0,7.8...|       0|\n",
            "|  [3.0,1.0,47.0,7.0]|       1|\n",
            "|[2.0,0.0,62.0,9.6...|       0|\n",
            "|[3.0,0.0,27.0,8.6...|       0|\n",
            "|[3.0,1.0,22.0,12....|       1|\n",
            "|[3.0,0.0,14.0,9.225]|       0|\n",
            "|[3.0,1.0,30.0,7.6...|       1|\n",
            "| [2.0,0.0,26.0,29.0]|       0|\n",
            "|[3.0,1.0,18.0,7.2...|       1|\n",
            "|[3.0,0.0,21.0,24.15]|       0|\n",
            "|[3.0,0.0,30.29518...|       0|\n",
            "| [1.0,0.0,46.0,26.0]|       0|\n",
            "|[1.0,1.0,23.0,82....|       1|\n",
            "| [2.0,0.0,63.0,26.0]|       0|\n",
            "|[1.0,1.0,47.0,61....|       1|\n",
            "|[2.0,1.0,24.0,27....|       1|\n",
            "|[2.0,0.0,35.0,12.35]|       0|\n",
            "|[3.0,0.0,21.0,7.225]|       0|\n",
            "|[3.0,1.0,27.0,7.925]|       1|\n",
            "|[3.0,1.0,45.0,7.225]|       1|\n",
            "+--------------------+--------+\n",
            "only showing top 20 rows\n",
            "\n"
          ]
        }
      ]
    },
    {
      "cell_type": "code",
      "source": [
        "# devide dataset into training and testing sets\n",
        "trainset, testset = X.randomSplit([0.8,0.2])"
      ],
      "metadata": {
        "id": "r53Z0Qioh7rb"
      },
      "execution_count": 27,
      "outputs": []
    },
    {
      "cell_type": "code",
      "source": [
        "# predict 'Survived' using linear regression\n",
        "from pyspark.ml.regression import LinearRegression\n",
        "model = LinearRegression(featuresCol='Inputvec', labelCol='Survived')\n",
        "model = model.fit(trainset)\n",
        "print(model.coefficients)\n",
        "print(model.intercept)"
      ],
      "metadata": {
        "id": "BUY9qaSYiA69",
        "outputId": "6143cd4f-4c5d-4f97-fa81-10b12961b22c",
        "colab": {
          "base_uri": "https://localhost:8080/"
        }
      },
      "execution_count": 28,
      "outputs": [
        {
          "output_type": "stream",
          "name": "stdout",
          "text": [
            "[4.389926824958759e-16,1.0,1.843872670187381e-17,3.34875637870885e-18]\n",
            "-1.724131865508298e-15\n"
          ]
        }
      ]
    },
    {
      "cell_type": "code",
      "source": [
        "# evaluate model\n",
        "model.evaluate(testset).predictions.show()"
      ],
      "metadata": {
        "id": "yOJfjiLriMKz",
        "outputId": "be3b7c9b-bc51-4f52-97e8-96e29c6a4471",
        "colab": {
          "base_uri": "https://localhost:8080/"
        }
      },
      "execution_count": 29,
      "outputs": [
        {
          "output_type": "stream",
          "name": "stdout",
          "text": [
            "+--------------------+--------+--------------------+\n",
            "|            Inputvec|Survived|          prediction|\n",
            "+--------------------+--------+--------------------+\n",
            "| [1.0,0.0,17.0,47.1]|       0|-8.13954403643380...|\n",
            "|[1.0,0.0,24.0,82....|       0|-5.67118605787123...|\n",
            "| [1.0,0.0,30.0,26.0]|       0|-6.44909716109777...|\n",
            "|[1.0,0.0,30.0,151...|       0|-2.24473352762881...|\n",
            "|[1.0,0.0,31.0,28....|       0|-6.17973520096930...|\n",
            "| [1.0,0.0,41.0,30.5]|       0|-4.27014318684975...|\n",
            "|[1.0,0.0,42.0,26.55]|       0|-4.21803179679001...|\n",
            "|[1.0,0.0,43.0,27....|       0|-3.99443729008936...|\n",
            "| [1.0,0.0,45.0,29.7]|       0|-3.55938416980447...|\n",
            "|[1.0,0.0,46.0,75....|       0|-1.84991631906329...|\n",
            "|  [1.0,0.0,49.0,0.0]|       0|-3.81641574620605...|\n",
            "| [1.0,0.0,50.0,26.0]|       0|-2.76135182072301...|\n",
            "|[1.0,0.0,61.0,262...|       0|7.182531006656154...|\n",
            "|[1.0,0.0,64.0,75.25]|       0|1.469332434053427...|\n",
            "|[1.0,0.0,67.0,221...|       0|6.929400166780692...|\n",
            "|[1.0,1.0,23.0,82....|       1|  0.9999999999999993|\n",
            "|[1.0,1.0,30.29518...|       1|  0.9999999999999993|\n",
            "|[1.0,1.0,36.0,262...|       1|  1.0000000000000002|\n",
            "| [1.0,1.0,37.0,90.0]|       1|  0.9999999999999996|\n",
            "|[1.0,1.0,39.0,108.9]|       1|  0.9999999999999998|\n",
            "+--------------------+--------+--------------------+\n",
            "only showing top 20 rows\n",
            "\n"
          ]
        }
      ]
    },
    {
      "cell_type": "code",
      "source": [],
      "metadata": {
        "id": "KwedqWZvsfVX"
      },
      "execution_count": 29,
      "outputs": []
    }
  ]
}